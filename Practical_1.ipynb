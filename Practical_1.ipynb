{
 "cells": [
  {
   "cell_type": "code",
   "execution_count": null,
   "id": "a9d6a07f",
   "metadata": {},
   "outputs": [],
   "source": []
  },
  {
   "cell_type": "markdown",
   "id": "8fb34f02",
   "metadata": {},
   "source": [
    "### Question 1\n",
    "\n",
    "*  Draw a concepts diagram that uses all the following R and programming terminology \n",
    "   * Include any missing keywords that will simplify the concepts diagrams \n",
    "\n",
    "\n",
    "`Code`, `Variable`, `Data`, `Function`, `Call`, `Invoke`, `Type`, `Expression`, `Assign`, `Return value`, `Character`, `Numeric`, `Integer`, `Logical`, `Data structure`, `Arguments`, `Parameters`, `Default values`, `Vector`, `Data Type`, `Statement`, `Comment`\n",
    "\n",
    " For a brief description of concepts diagrams, see the following [page](https://www.lucidchart.com/pages/concept-map). A phone picture of simple doodle on paper with a pen will do, there is no need for a specific tool.\n",
    "\n",
    "\n",
    "\n",
    "We can discuss your solution next week. However, you are welcome to attach an image here if you wish. The following syntax can be used to include an image in a Jupyter or notebook:\n",
    "\n",
    "```markdown\n",
    "![](image_URL)\n",
    "```\n",
    "\n",
    "R users can, if they wish, include the URL where their image can be found."
   ]
  },
  {
   "cell_type": "markdown",
   "id": "dcace754",
   "metadata": {},
   "source": [
    "### Question 2\n",
    "\n",
    "* Rename this notebook to `Practical_1`\n",
    "\n",
    "* Make sure the notebook is set to use the `R` Kernel (instead of python by default)\n",
    "  * This is called the `runtime`\n",
    "\n",
    "* Test the runtime to make sure everything works, use the cell below to instantiate a vector `x` with any 5 values and computing its mean.\n",
    "  * The mean function can be invoked using `mean` and passing it `x`\n",
    "  * Assign the returned value to a variable called `y`\n",
    "\n",
    "* Create a cell above the current one and describe the computation that you just did\n",
    "  * A title that reads: \"This is a markdown test\"\n",
    "  * Text that reads: \"the variable y contains the mean of 5 values.\"\n",
    "  * Try to format (emphasize) the name `x` so it stands out.\n",
    "\n"
   ]
  },
  {
   "cell_type": "markdown",
   "id": "46350f01",
   "metadata": {},
   "source": [
    "# This is a markdown test\n",
    "#the variable y contains the mean of 5 values.\n",
    "`x`"
   ]
  },
  {
   "cell_type": "code",
   "execution_count": 6,
   "id": "9be1d8f9",
   "metadata": {},
   "outputs": [
    {
     "data": {
      "text/html": [
       "<style>\n",
       ".list-inline {list-style: none; margin:0; padding: 0}\n",
       ".list-inline>li {display: inline-block}\n",
       ".list-inline>li:not(:last-child)::after {content: \"\\00b7\"; padding: 0 .5ex}\n",
       "</style>\n",
       "<ol class=list-inline><li>1</li><li>2</li><li>3</li><li>4</li><li>5</li></ol>\n"
      ],
      "text/latex": [
       "\\begin{enumerate*}\n",
       "\\item 1\n",
       "\\item 2\n",
       "\\item 3\n",
       "\\item 4\n",
       "\\item 5\n",
       "\\end{enumerate*}\n"
      ],
      "text/markdown": [
       "1. 1\n",
       "2. 2\n",
       "3. 3\n",
       "4. 4\n",
       "5. 5\n",
       "\n",
       "\n"
      ],
      "text/plain": [
       "[1] 1 2 3 4 5"
      ]
     },
     "metadata": {},
     "output_type": "display_data"
    },
    {
     "data": {
      "text/html": [
       "3"
      ],
      "text/latex": [
       "3"
      ],
      "text/markdown": [
       "3"
      ],
      "text/plain": [
       "[1] 3"
      ]
     },
     "metadata": {},
     "output_type": "display_data"
    },
    {
     "data": {
      "text/html": [
       "3"
      ],
      "text/latex": [
       "3"
      ],
      "text/markdown": [
       "3"
      ],
      "text/plain": [
       "[1] 3"
      ]
     },
     "metadata": {},
     "output_type": "display_data"
    }
   ],
   "source": [
    "andrew <- 1:5\n",
    "andrew\n",
    "\n",
    "mean(andrew)\n",
    " y <- mean(andrew)\n",
    "y"
   ]
  },
  {
   "cell_type": "markdown",
   "id": "96a5872d",
   "metadata": {},
   "source": [
    "### Question 3\n",
    "\n",
    "In cell below:\n",
    "* Crate a statement that assigns to a variable `sec_per_min` the number of seconds in each minute\n",
    "* Use the variable `sec_per_min` to compute a new variable called `sec_per_hour` representing the number of seconds per hour\n",
    "  * `sec_per_hour` is simply the number of `sec_per_min` multilied by 60.\n",
    "* Use the variable `sec_per_hour` to compute a variable called `sec_per_day` representing the number of seconds per day\n",
    "  * `sec_per_day` is simply the numebr of `sec_per_hour` multilied by 24.\n",
    "\n",
    "* Use an expression to show the calculated value; i.e., the number of seconds in a single day."
   ]
  },
  {
   "cell_type": "code",
   "execution_count": 14,
   "id": "b65f8b70",
   "metadata": {},
   "outputs": [
    {
     "data": {
      "text/html": [
       "<style>\n",
       ".list-inline {list-style: none; margin:0; padding: 0}\n",
       ".list-inline>li {display: inline-block}\n",
       ".list-inline>li:not(:last-child)::after {content: \"\\00b7\"; padding: 0 .5ex}\n",
       "</style>\n",
       "<ol class=list-inline><li>1</li><li>2</li><li>3</li><li>4</li><li>5</li><li>6</li><li>7</li><li>8</li><li>9</li><li>10</li><li>11</li><li>12</li><li>13</li><li>14</li><li>15</li><li>16</li><li>17</li><li>18</li><li>19</li><li>20</li><li>21</li><li>22</li><li>23</li><li>24</li><li>25</li><li>26</li><li>27</li><li>28</li><li>29</li><li>30</li><li>31</li><li>32</li><li>33</li><li>34</li><li>35</li><li>36</li><li>37</li><li>38</li><li>39</li><li>40</li><li>41</li><li>42</li><li>43</li><li>44</li><li>45</li><li>46</li><li>47</li><li>48</li><li>49</li><li>50</li><li>51</li><li>52</li><li>53</li><li>54</li><li>55</li><li>56</li><li>57</li><li>58</li><li>59</li><li>60</li></ol>\n"
      ],
      "text/latex": [
       "\\begin{enumerate*}\n",
       "\\item 1\n",
       "\\item 2\n",
       "\\item 3\n",
       "\\item 4\n",
       "\\item 5\n",
       "\\item 6\n",
       "\\item 7\n",
       "\\item 8\n",
       "\\item 9\n",
       "\\item 10\n",
       "\\item 11\n",
       "\\item 12\n",
       "\\item 13\n",
       "\\item 14\n",
       "\\item 15\n",
       "\\item 16\n",
       "\\item 17\n",
       "\\item 18\n",
       "\\item 19\n",
       "\\item 20\n",
       "\\item 21\n",
       "\\item 22\n",
       "\\item 23\n",
       "\\item 24\n",
       "\\item 25\n",
       "\\item 26\n",
       "\\item 27\n",
       "\\item 28\n",
       "\\item 29\n",
       "\\item 30\n",
       "\\item 31\n",
       "\\item 32\n",
       "\\item 33\n",
       "\\item 34\n",
       "\\item 35\n",
       "\\item 36\n",
       "\\item 37\n",
       "\\item 38\n",
       "\\item 39\n",
       "\\item 40\n",
       "\\item 41\n",
       "\\item 42\n",
       "\\item 43\n",
       "\\item 44\n",
       "\\item 45\n",
       "\\item 46\n",
       "\\item 47\n",
       "\\item 48\n",
       "\\item 49\n",
       "\\item 50\n",
       "\\item 51\n",
       "\\item 52\n",
       "\\item 53\n",
       "\\item 54\n",
       "\\item 55\n",
       "\\item 56\n",
       "\\item 57\n",
       "\\item 58\n",
       "\\item 59\n",
       "\\item 60\n",
       "\\end{enumerate*}\n"
      ],
      "text/markdown": [
       "1. 1\n",
       "2. 2\n",
       "3. 3\n",
       "4. 4\n",
       "5. 5\n",
       "6. 6\n",
       "7. 7\n",
       "8. 8\n",
       "9. 9\n",
       "10. 10\n",
       "11. 11\n",
       "12. 12\n",
       "13. 13\n",
       "14. 14\n",
       "15. 15\n",
       "16. 16\n",
       "17. 17\n",
       "18. 18\n",
       "19. 19\n",
       "20. 20\n",
       "21. 21\n",
       "22. 22\n",
       "23. 23\n",
       "24. 24\n",
       "25. 25\n",
       "26. 26\n",
       "27. 27\n",
       "28. 28\n",
       "29. 29\n",
       "30. 30\n",
       "31. 31\n",
       "32. 32\n",
       "33. 33\n",
       "34. 34\n",
       "35. 35\n",
       "36. 36\n",
       "37. 37\n",
       "38. 38\n",
       "39. 39\n",
       "40. 40\n",
       "41. 41\n",
       "42. 42\n",
       "43. 43\n",
       "44. 44\n",
       "45. 45\n",
       "46. 46\n",
       "47. 47\n",
       "48. 48\n",
       "49. 49\n",
       "50. 50\n",
       "51. 51\n",
       "52. 52\n",
       "53. 53\n",
       "54. 54\n",
       "55. 55\n",
       "56. 56\n",
       "57. 57\n",
       "58. 58\n",
       "59. 59\n",
       "60. 60\n",
       "\n",
       "\n"
      ],
      "text/plain": [
       " [1]  1  2  3  4  5  6  7  8  9 10 11 12 13 14 15 16 17 18 19 20 21 22 23 24 25\n",
       "[26] 26 27 28 29 30 31 32 33 34 35 36 37 38 39 40 41 42 43 44 45 46 47 48 49 50\n",
       "[51] 51 52 53 54 55 56 57 58 59 60"
      ]
     },
     "metadata": {},
     "output_type": "display_data"
    },
    {
     "data": {
      "text/html": [
       "<style>\n",
       ".list-inline {list-style: none; margin:0; padding: 0}\n",
       ".list-inline>li {display: inline-block}\n",
       ".list-inline>li:not(:last-child)::after {content: \"\\00b7\"; padding: 0 .5ex}\n",
       "</style>\n",
       "<ol class=list-inline><li>60</li><li>120</li><li>180</li><li>240</li><li>300</li><li>360</li><li>420</li><li>480</li><li>540</li><li>600</li><li>660</li><li>720</li><li>780</li><li>840</li><li>900</li><li>960</li><li>1020</li><li>1080</li><li>1140</li><li>1200</li><li>1260</li><li>1320</li><li>1380</li><li>1440</li><li>1500</li><li>1560</li><li>1620</li><li>1680</li><li>1740</li><li>1800</li><li>1860</li><li>1920</li><li>1980</li><li>2040</li><li>2100</li><li>2160</li><li>2220</li><li>2280</li><li>2340</li><li>2400</li><li>2460</li><li>2520</li><li>2580</li><li>2640</li><li>2700</li><li>2760</li><li>2820</li><li>2880</li><li>2940</li><li>3000</li><li>3060</li><li>3120</li><li>3180</li><li>3240</li><li>3300</li><li>3360</li><li>3420</li><li>3480</li><li>3540</li><li>3600</li></ol>\n"
      ],
      "text/latex": [
       "\\begin{enumerate*}\n",
       "\\item 60\n",
       "\\item 120\n",
       "\\item 180\n",
       "\\item 240\n",
       "\\item 300\n",
       "\\item 360\n",
       "\\item 420\n",
       "\\item 480\n",
       "\\item 540\n",
       "\\item 600\n",
       "\\item 660\n",
       "\\item 720\n",
       "\\item 780\n",
       "\\item 840\n",
       "\\item 900\n",
       "\\item 960\n",
       "\\item 1020\n",
       "\\item 1080\n",
       "\\item 1140\n",
       "\\item 1200\n",
       "\\item 1260\n",
       "\\item 1320\n",
       "\\item 1380\n",
       "\\item 1440\n",
       "\\item 1500\n",
       "\\item 1560\n",
       "\\item 1620\n",
       "\\item 1680\n",
       "\\item 1740\n",
       "\\item 1800\n",
       "\\item 1860\n",
       "\\item 1920\n",
       "\\item 1980\n",
       "\\item 2040\n",
       "\\item 2100\n",
       "\\item 2160\n",
       "\\item 2220\n",
       "\\item 2280\n",
       "\\item 2340\n",
       "\\item 2400\n",
       "\\item 2460\n",
       "\\item 2520\n",
       "\\item 2580\n",
       "\\item 2640\n",
       "\\item 2700\n",
       "\\item 2760\n",
       "\\item 2820\n",
       "\\item 2880\n",
       "\\item 2940\n",
       "\\item 3000\n",
       "\\item 3060\n",
       "\\item 3120\n",
       "\\item 3180\n",
       "\\item 3240\n",
       "\\item 3300\n",
       "\\item 3360\n",
       "\\item 3420\n",
       "\\item 3480\n",
       "\\item 3540\n",
       "\\item 3600\n",
       "\\end{enumerate*}\n"
      ],
      "text/markdown": [
       "1. 60\n",
       "2. 120\n",
       "3. 180\n",
       "4. 240\n",
       "5. 300\n",
       "6. 360\n",
       "7. 420\n",
       "8. 480\n",
       "9. 540\n",
       "10. 600\n",
       "11. 660\n",
       "12. 720\n",
       "13. 780\n",
       "14. 840\n",
       "15. 900\n",
       "16. 960\n",
       "17. 1020\n",
       "18. 1080\n",
       "19. 1140\n",
       "20. 1200\n",
       "21. 1260\n",
       "22. 1320\n",
       "23. 1380\n",
       "24. 1440\n",
       "25. 1500\n",
       "26. 1560\n",
       "27. 1620\n",
       "28. 1680\n",
       "29. 1740\n",
       "30. 1800\n",
       "31. 1860\n",
       "32. 1920\n",
       "33. 1980\n",
       "34. 2040\n",
       "35. 2100\n",
       "36. 2160\n",
       "37. 2220\n",
       "38. 2280\n",
       "39. 2340\n",
       "40. 2400\n",
       "41. 2460\n",
       "42. 2520\n",
       "43. 2580\n",
       "44. 2640\n",
       "45. 2700\n",
       "46. 2760\n",
       "47. 2820\n",
       "48. 2880\n",
       "49. 2940\n",
       "50. 3000\n",
       "51. 3060\n",
       "52. 3120\n",
       "53. 3180\n",
       "54. 3240\n",
       "55. 3300\n",
       "56. 3360\n",
       "57. 3420\n",
       "58. 3480\n",
       "59. 3540\n",
       "60. 3600\n",
       "\n",
       "\n"
      ],
      "text/plain": [
       " [1]   60  120  180  240  300  360  420  480  540  600  660  720  780  840  900\n",
       "[16]  960 1020 1080 1140 1200 1260 1320 1380 1440 1500 1560 1620 1680 1740 1800\n",
       "[31] 1860 1920 1980 2040 2100 2160 2220 2280 2340 2400 2460 2520 2580 2640 2700\n",
       "[46] 2760 2820 2880 2940 3000 3060 3120 3180 3240 3300 3360 3420 3480 3540 3600"
      ]
     },
     "metadata": {},
     "output_type": "display_data"
    },
    {
     "data": {
      "text/html": [
       "<style>\n",
       ".list-inline {list-style: none; margin:0; padding: 0}\n",
       ".list-inline>li {display: inline-block}\n",
       ".list-inline>li:not(:last-child)::after {content: \"\\00b7\"; padding: 0 .5ex}\n",
       "</style>\n",
       "<ol class=list-inline><li>1440</li><li>2880</li><li>4320</li><li>5760</li><li>7200</li><li>8640</li><li>10080</li><li>11520</li><li>12960</li><li>14400</li><li>15840</li><li>17280</li><li>18720</li><li>20160</li><li>21600</li><li>23040</li><li>24480</li><li>25920</li><li>27360</li><li>28800</li><li>30240</li><li>31680</li><li>33120</li><li>34560</li><li>36000</li><li>37440</li><li>38880</li><li>40320</li><li>41760</li><li>43200</li><li>44640</li><li>46080</li><li>47520</li><li>48960</li><li>50400</li><li>51840</li><li>53280</li><li>54720</li><li>56160</li><li>57600</li><li>59040</li><li>60480</li><li>61920</li><li>63360</li><li>64800</li><li>66240</li><li>67680</li><li>69120</li><li>70560</li><li>72000</li><li>73440</li><li>74880</li><li>76320</li><li>77760</li><li>79200</li><li>80640</li><li>82080</li><li>83520</li><li>84960</li><li>86400</li></ol>\n"
      ],
      "text/latex": [
       "\\begin{enumerate*}\n",
       "\\item 1440\n",
       "\\item 2880\n",
       "\\item 4320\n",
       "\\item 5760\n",
       "\\item 7200\n",
       "\\item 8640\n",
       "\\item 10080\n",
       "\\item 11520\n",
       "\\item 12960\n",
       "\\item 14400\n",
       "\\item 15840\n",
       "\\item 17280\n",
       "\\item 18720\n",
       "\\item 20160\n",
       "\\item 21600\n",
       "\\item 23040\n",
       "\\item 24480\n",
       "\\item 25920\n",
       "\\item 27360\n",
       "\\item 28800\n",
       "\\item 30240\n",
       "\\item 31680\n",
       "\\item 33120\n",
       "\\item 34560\n",
       "\\item 36000\n",
       "\\item 37440\n",
       "\\item 38880\n",
       "\\item 40320\n",
       "\\item 41760\n",
       "\\item 43200\n",
       "\\item 44640\n",
       "\\item 46080\n",
       "\\item 47520\n",
       "\\item 48960\n",
       "\\item 50400\n",
       "\\item 51840\n",
       "\\item 53280\n",
       "\\item 54720\n",
       "\\item 56160\n",
       "\\item 57600\n",
       "\\item 59040\n",
       "\\item 60480\n",
       "\\item 61920\n",
       "\\item 63360\n",
       "\\item 64800\n",
       "\\item 66240\n",
       "\\item 67680\n",
       "\\item 69120\n",
       "\\item 70560\n",
       "\\item 72000\n",
       "\\item 73440\n",
       "\\item 74880\n",
       "\\item 76320\n",
       "\\item 77760\n",
       "\\item 79200\n",
       "\\item 80640\n",
       "\\item 82080\n",
       "\\item 83520\n",
       "\\item 84960\n",
       "\\item 86400\n",
       "\\end{enumerate*}\n"
      ],
      "text/markdown": [
       "1. 1440\n",
       "2. 2880\n",
       "3. 4320\n",
       "4. 5760\n",
       "5. 7200\n",
       "6. 8640\n",
       "7. 10080\n",
       "8. 11520\n",
       "9. 12960\n",
       "10. 14400\n",
       "11. 15840\n",
       "12. 17280\n",
       "13. 18720\n",
       "14. 20160\n",
       "15. 21600\n",
       "16. 23040\n",
       "17. 24480\n",
       "18. 25920\n",
       "19. 27360\n",
       "20. 28800\n",
       "21. 30240\n",
       "22. 31680\n",
       "23. 33120\n",
       "24. 34560\n",
       "25. 36000\n",
       "26. 37440\n",
       "27. 38880\n",
       "28. 40320\n",
       "29. 41760\n",
       "30. 43200\n",
       "31. 44640\n",
       "32. 46080\n",
       "33. 47520\n",
       "34. 48960\n",
       "35. 50400\n",
       "36. 51840\n",
       "37. 53280\n",
       "38. 54720\n",
       "39. 56160\n",
       "40. 57600\n",
       "41. 59040\n",
       "42. 60480\n",
       "43. 61920\n",
       "44. 63360\n",
       "45. 64800\n",
       "46. 66240\n",
       "47. 67680\n",
       "48. 69120\n",
       "49. 70560\n",
       "50. 72000\n",
       "51. 73440\n",
       "52. 74880\n",
       "53. 76320\n",
       "54. 77760\n",
       "55. 79200\n",
       "56. 80640\n",
       "57. 82080\n",
       "58. 83520\n",
       "59. 84960\n",
       "60. 86400\n",
       "\n",
       "\n"
      ],
      "text/plain": [
       " [1]  1440  2880  4320  5760  7200  8640 10080 11520 12960 14400 15840 17280\n",
       "[13] 18720 20160 21600 23040 24480 25920 27360 28800 30240 31680 33120 34560\n",
       "[25] 36000 37440 38880 40320 41760 43200 44640 46080 47520 48960 50400 51840\n",
       "[37] 53280 54720 56160 57600 59040 60480 61920 63360 64800 66240 67680 69120\n",
       "[49] 70560 72000 73440 74880 76320 77760 79200 80640 82080 83520 84960 86400"
      ]
     },
     "metadata": {},
     "output_type": "display_data"
    }
   ],
   "source": [
    "seq(60)\n",
    "sec_per_min <- seq(60)\n",
    "sec_per_min * 60\n",
    "sec_per_hour <- sec_per_min * 60\n",
    "sec_per_day <- sec_per_hour * 24\n",
    "sec_per_day"
   ]
  },
  {
   "cell_type": "markdown",
   "id": "b845130f",
   "metadata": {},
   "source": [
    "### Question 4\n",
    "\n",
    "* Recall that `c` creates atomic vectors\n",
    "\n",
    "* What does the following create? \n",
    "  * Specifically, what is the of the data it contains?\n",
    "\n",
    "`c(1, 2, 3, \"Hi\")`\n",
    "\n",
    "* Would the following be valid?\n",
    "\n",
    "`c(1, 2, 3, \"Hi\") + 1 `\n",
    "\n",
    "* How about \n",
    "\n",
    "`c(1, 2, 3, FALSE) + 1 `\n",
    "\n",
    "* Hint: recall that know that the function `class()` returns the atomic data type stored in a vector\n"
   ]
  },
  {
   "cell_type": "code",
   "execution_count": 23,
   "id": "fe343bcd",
   "metadata": {},
   "outputs": [
    {
     "data": {
      "text/html": [
       "<style>\n",
       ".list-inline {list-style: none; margin:0; padding: 0}\n",
       ".list-inline>li {display: inline-block}\n",
       ".list-inline>li:not(:last-child)::after {content: \"\\00b7\"; padding: 0 .5ex}\n",
       "</style>\n",
       "<ol class=list-inline><li>2</li><li>3</li><li>4</li><li>1</li></ol>\n"
      ],
      "text/latex": [
       "\\begin{enumerate*}\n",
       "\\item 2\n",
       "\\item 3\n",
       "\\item 4\n",
       "\\item 1\n",
       "\\end{enumerate*}\n"
      ],
      "text/markdown": [
       "1. 2\n",
       "2. 3\n",
       "3. 4\n",
       "4. 1\n",
       "\n",
       "\n"
      ],
      "text/plain": [
       "[1] 2 3 4 1"
      ]
     },
     "metadata": {},
     "output_type": "display_data"
    },
    {
     "ename": "ERROR",
     "evalue": "Error in c(1, 2, 3, \"Hi\") + 1: non-numeric argument to binary operator\n",
     "output_type": "error",
     "traceback": [
      "Error in c(1, 2, 3, \"Hi\") + 1: non-numeric argument to binary operator\nTraceback:\n"
     ]
    }
   ],
   "source": [
    "#c(1,2,3,\"Hi\") is valid and is a list that combines 1,2,3, and Hi.\n",
    "\n",
    "#c(1,2,3,\"Hi\") is not valid because you can't add numerical values to text values like +1 to Hi.\n",
    "\n",
    "#c(1,2,3,FALSE) is valid becasue FALSE is categorized as a numerical value of null or 0.\n"
   ]
  },
  {
   "cell_type": "markdown",
   "id": "ba563acd",
   "metadata": {},
   "source": [
    "### Question 5: \n",
    "\n",
    "* We will be reproducing the following plot\n",
    "\n",
    "![](https://www.dropbox.com/s/c4nf3n96np3i7nm/simple_qplot_example.png?dl=1)\n",
    "\n",
    "\n"
   ]
  },
  {
   "cell_type": "markdown",
   "id": "36ea72a1",
   "metadata": {},
   "source": [
    "### Create `x-axis` values\n",
    "\n",
    "* Create a variable called `x_axis` that is a `vector` of numerical values between 0 and 10 with a step of 0.5. \n",
    "    * i.e., `x_axis` will contain the values 0, 0.5, 1, 1.5, 2 .... 10\n",
    "    * Hint: you need a function that returns a sequence of values as a vector"
   ]
  },
  {
   "cell_type": "code",
   "execution_count": 53,
   "id": "ad55fe68",
   "metadata": {},
   "outputs": [],
   "source": [
    "x_axis <- seq(0,10,0.5)"
   ]
  },
  {
   "cell_type": "markdown",
   "id": "51d5fa41",
   "metadata": {},
   "source": [
    "### Create `y-axis` values\n",
    "\n",
    "* Create a variable called `y_axis` that is a list of $x^2 + 2x + 3 $. \n",
    "* I.e., each position in `y_axis` is computed as $x^2 + 2x + 3 $, x is the value at the same position in `x_axis`\n",
    "* For example: \n",
    "  * The value at the first position of `y_axis` is 0^2 + 2*0 + 3 = 3\n",
    "  * The value at the second position of `y_axis` is 0.5^2 + 2*0.5 + 3 = 4.25\n",
    "  * etc...\n",
    "* Hint: remember that arithmetic operations on a vector are evaluated element-wise"
   ]
  },
  {
   "cell_type": "code",
   "execution_count": 59,
   "id": "adc293ad",
   "metadata": {},
   "outputs": [
    {
     "data": {
      "text/html": [
       "<style>\n",
       ".list-inline {list-style: none; margin:0; padding: 0}\n",
       ".list-inline>li {display: inline-block}\n",
       ".list-inline>li:not(:last-child)::after {content: \"\\00b7\"; padding: 0 .5ex}\n",
       "</style>\n",
       "<ol class=list-inline><li>3</li><li>4.25</li><li>6</li><li>8.25</li><li>11</li><li>14.25</li><li>18</li><li>22.25</li><li>27</li><li>32.25</li><li>38</li><li>44.25</li><li>51</li><li>58.25</li><li>66</li><li>74.25</li><li>83</li><li>92.25</li><li>102</li><li>112.25</li><li>123</li></ol>\n"
      ],
      "text/latex": [
       "\\begin{enumerate*}\n",
       "\\item 3\n",
       "\\item 4.25\n",
       "\\item 6\n",
       "\\item 8.25\n",
       "\\item 11\n",
       "\\item 14.25\n",
       "\\item 18\n",
       "\\item 22.25\n",
       "\\item 27\n",
       "\\item 32.25\n",
       "\\item 38\n",
       "\\item 44.25\n",
       "\\item 51\n",
       "\\item 58.25\n",
       "\\item 66\n",
       "\\item 74.25\n",
       "\\item 83\n",
       "\\item 92.25\n",
       "\\item 102\n",
       "\\item 112.25\n",
       "\\item 123\n",
       "\\end{enumerate*}\n"
      ],
      "text/markdown": [
       "1. 3\n",
       "2. 4.25\n",
       "3. 6\n",
       "4. 8.25\n",
       "5. 11\n",
       "6. 14.25\n",
       "7. 18\n",
       "8. 22.25\n",
       "9. 27\n",
       "10. 32.25\n",
       "11. 38\n",
       "12. 44.25\n",
       "13. 51\n",
       "14. 58.25\n",
       "15. 66\n",
       "16. 74.25\n",
       "17. 83\n",
       "18. 92.25\n",
       "19. 102\n",
       "20. 112.25\n",
       "21. 123\n",
       "\n",
       "\n"
      ],
      "text/plain": [
       " [1]   3.00   4.25   6.00   8.25  11.00  14.25  18.00  22.25  27.00  32.25\n",
       "[11]  38.00  44.25  51.00  58.25  66.00  74.25  83.00  92.25 102.00 112.25\n",
       "[21] 123.00"
      ]
     },
     "metadata": {},
     "output_type": "display_data"
    }
   ],
   "source": [
    "y_axis <- (x_axis)^2 + 2*(x_axis) +3\n",
    "y_axis"
   ]
  },
  {
   "cell_type": "markdown",
   "id": "fe96674b",
   "metadata": {},
   "source": [
    "### Generate the plot of `x_axis` versus `y_axis`\n",
    "\n",
    "* Plot the values of `x_axis` and `y_axis`\n",
    "* Use the `qplot` function, which is part of `ggplot` library to plot the `x_axis` and `y_axis`.\n",
    "    * You can consult `qplot`'s documentation to see what arguments it takes as input\n",
    " \n",
    "* Change the behavior of your plot so that it has:\n",
    "  * A label for the `x-axis`. Mine says \"My  x_axis\"\n",
    "  * A label for the `y-axis`. Mine says \"My  x_axis\"\n",
    "  * A title. Mine says \"My amazing plot of x_axis versus y_axis\"  \n",
    "  * Dots that are bigger than those produced by default.\n",
    " \n",
    "* Hint: We know that we can change the default behavior of a function by changing the default parameters.\n",
    "  * Which default parameter (param) controls the `x-axis`, `y-axis`, and plot labels?\n",
    "  * Which default parameter controls the size of the symbol (dot here)?\n"
   ]
  },
  {
   "cell_type": "code",
   "execution_count": 68,
   "id": "ea0fbb6f",
   "metadata": {},
   "outputs": [
    {
     "data": {
      "image/png": "[encoded data removed]",
      "text/plain": [
       "plot without title"
      ]
     },
     "metadata": {
      "image/png": {
       "height": 420,
       "width": 420
      }
     },
     "output_type": "display_data"
    }
   ],
   "source": [
    "library(\"ggplot2\")\n",
    "qplot(x_axis,y_axis, main=\"Andrew's plot\", ylab=\"my y axis\", xlab=\"my x axis\", size=I(6))\n",
    "\n",
    "\n"
   ]
  }
 ],
 "metadata": {
  "kernelspec": {
   "display_name": "R",
   "language": "R",
   "name": "ir"
  },
  "language_info": {
   "codemirror_mode": "r",
   "file_extension": ".r",
   "mimetype": "text/x-r-source",
   "name": "R",
   "pygments_lexer": "r",
   "version": "4.1.3"
  }
 },
 "nbformat": 4,
 "nbformat_minor": 5
}
