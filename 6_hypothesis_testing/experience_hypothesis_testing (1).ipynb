{
 "cells": [
  {
   "cell_type": "code",
   "execution_count": 5,
   "id": "e3ff195c",
   "metadata": {},
   "outputs": [
    {
     "name": "stderr",
     "output_type": "stream",
     "text": [
      "-- \u001b[1mAttaching packages\u001b[22m --------------------------------------- tidyverse 1.3.2 --\n",
      "\u001b[32mv\u001b[39m \u001b[34mggplot2\u001b[39m 3.3.6     \u001b[32mv\u001b[39m \u001b[34mpurrr  \u001b[39m 0.3.4\n",
      "\u001b[32mv\u001b[39m \u001b[34mtibble \u001b[39m 3.1.8     \u001b[32mv\u001b[39m \u001b[34mdplyr  \u001b[39m 1.0.9\n",
      "\u001b[32mv\u001b[39m \u001b[34mtidyr  \u001b[39m 1.2.0     \u001b[32mv\u001b[39m \u001b[34mstringr\u001b[39m 1.4.1\n",
      "\u001b[32mv\u001b[39m \u001b[34mreadr  \u001b[39m 2.1.2     \u001b[32mv\u001b[39m \u001b[34mforcats\u001b[39m 0.5.2\n",
      "-- \u001b[1mConflicts\u001b[22m ------------------------------------------ tidyverse_conflicts() --\n",
      "\u001b[31mx\u001b[39m \u001b[34mdplyr\u001b[39m::\u001b[32mfilter()\u001b[39m masks \u001b[34mstats\u001b[39m::filter()\n",
      "\u001b[31mx\u001b[39m \u001b[34mdplyr\u001b[39m::\u001b[32mlag()\u001b[39m    masks \u001b[34mstats\u001b[39m::lag()\n"
     ]
    }
   ],
   "source": [
    "library(tidyverse)"
   ]
  },
  {
   "cell_type": "markdown",
   "id": "d0486091",
   "metadata": {},
   "source": [
    "Let's use the code provided below to generate a dataset representing two populations, each sampled from a Guassian with a specific population mean. Here I am generating only 5 samples"
   ]
  },
  {
   "cell_type": "code",
   "execution_count": 6,
   "id": "3b0a10f7",
   "metadata": {},
   "outputs": [
    {
     "data": {
      "text/html": [
       "<table class=\"dataframe\">\n",
       "<caption>A tibble: 10 × 2</caption>\n",
       "<thead>\n",
       "\t<tr><th scope=col>measure</th><th scope=col>site_name</th></tr>\n",
       "\t<tr><th scope=col>&lt;dbl&gt;</th><th scope=col>&lt;chr&gt;</th></tr>\n",
       "</thead>\n",
       "<tbody>\n",
       "\t<tr><td>10.29120</td><td>Site 1</td></tr>\n",
       "\t<tr><td>11.38886</td><td>Site 1</td></tr>\n",
       "\t<tr><td>10.64901</td><td>Site 1</td></tr>\n",
       "\t<tr><td>11.47788</td><td>Site 1</td></tr>\n",
       "\t<tr><td>10.43872</td><td>Site 1</td></tr>\n",
       "\t<tr><td>12.52232</td><td>Site 2</td></tr>\n",
       "\t<tr><td>11.95539</td><td>Site 2</td></tr>\n",
       "\t<tr><td>13.48441</td><td>Site 2</td></tr>\n",
       "\t<tr><td>10.40899</td><td>Site 2</td></tr>\n",
       "\t<tr><td>12.22564</td><td>Site 2</td></tr>\n",
       "</tbody>\n",
       "</table>\n"
      ],
      "text/latex": [
       "A tibble: 10 × 2\n",
       "\\begin{tabular}{ll}\n",
       " measure & site\\_name\\\\\n",
       " <dbl> & <chr>\\\\\n",
       "\\hline\n",
       "\t 10.29120 & Site 1\\\\\n",
       "\t 11.38886 & Site 1\\\\\n",
       "\t 10.64901 & Site 1\\\\\n",
       "\t 11.47788 & Site 1\\\\\n",
       "\t 10.43872 & Site 1\\\\\n",
       "\t 12.52232 & Site 2\\\\\n",
       "\t 11.95539 & Site 2\\\\\n",
       "\t 13.48441 & Site 2\\\\\n",
       "\t 10.40899 & Site 2\\\\\n",
       "\t 12.22564 & Site 2\\\\\n",
       "\\end{tabular}\n"
      ],
      "text/markdown": [
       "\n",
       "A tibble: 10 × 2\n",
       "\n",
       "| measure &lt;dbl&gt; | site_name &lt;chr&gt; |\n",
       "|---|---|\n",
       "| 10.29120 | Site 1 |\n",
       "| 11.38886 | Site 1 |\n",
       "| 10.64901 | Site 1 |\n",
       "| 11.47788 | Site 1 |\n",
       "| 10.43872 | Site 1 |\n",
       "| 12.52232 | Site 2 |\n",
       "| 11.95539 | Site 2 |\n",
       "| 13.48441 | Site 2 |\n",
       "| 10.40899 | Site 2 |\n",
       "| 12.22564 | Site 2 |\n",
       "\n"
      ],
      "text/plain": [
       "   measure  site_name\n",
       "1  10.29120 Site 1   \n",
       "2  11.38886 Site 1   \n",
       "3  10.64901 Site 1   \n",
       "4  11.47788 Site 1   \n",
       "5  10.43872 Site 1   \n",
       "6  12.52232 Site 2   \n",
       "7  11.95539 Site 2   \n",
       "8  13.48441 Site 2   \n",
       "9  10.40899 Site 2   \n",
       "10 12.22564 Site 2   "
      ]
     },
     "metadata": {},
     "output_type": "display_data"
    }
   ],
   "source": [
    "set.seed(110)\n",
    "data_1 = tibble(measure=rnorm(5, 10, 1))\n",
    "data_1$site_name <- 'Site 1'\n",
    "data_2 = tibble(measure=rnorm(5, 12, 1))\n",
    "data_2$site_name <- 'Site 2'\n",
    "complete_data = rbind(data_1, data_2)\n",
    "complete_data"
   ]
  },
  {
   "cell_type": "markdown",
   "id": "e08bf2cf",
   "metadata": {},
   "source": [
    "* I compute the mean of the dataset above using the following code:\n",
    "  * feel free to deconstruct the code to see what each chunk does.\n"
   ]
  },
  {
   "cell_type": "code",
   "execution_count": 7,
   "id": "dde6ba00",
   "metadata": {},
   "outputs": [
    {
     "data": {
      "text/html": [
       "10.8491329008612"
      ],
      "text/latex": [
       "10.8491329008612"
      ],
      "text/markdown": [
       "10.8491329008612"
      ],
      "text/plain": [
       "[1] 10.84913"
      ]
     },
     "metadata": {},
     "output_type": "display_data"
    },
    {
     "data": {
      "text/html": [
       "12.1193505444919"
      ],
      "text/latex": [
       "12.1193505444919"
      ],
      "text/markdown": [
       "12.1193505444919"
      ],
      "text/plain": [
       "[1] 12.11935"
      ]
     },
     "metadata": {},
     "output_type": "display_data"
    }
   ],
   "source": [
    "mean(complete_data[complete_data$site_name == \"Site 1\", ]$measure)\n",
    "mean(complete_data[complete_data$site_name == \"Site 2\", ]$measure)"
   ]
  },
  {
   "cell_type": "markdown",
   "id": "1ac520b8",
   "metadata": {},
   "source": [
    "* Use the `tapply` function instead of the code above to compute the means samples from \"Site 1\" and those from site 2\n",
    "  * See tapply for help if needed."
   ]
  },
  {
   "cell_type": "code",
   "execution_count": 8,
   "id": "3fe35077",
   "metadata": {},
   "outputs": [
    {
     "data": {
      "text/html": [
       "<style>\n",
       ".dl-inline {width: auto; margin:0; padding: 0}\n",
       ".dl-inline>dt, .dl-inline>dd {float: none; width: auto; display: inline-block}\n",
       ".dl-inline>dt::after {content: \":\\0020\"; padding-right: .5ex}\n",
       ".dl-inline>dt:not(:first-of-type) {padding-left: .5ex}\n",
       "</style><dl class=dl-inline><dt>Site 1</dt><dd>10.8491329008612</dd><dt>Site 2</dt><dd>12.1193505444919</dd></dl>\n"
      ],
      "text/latex": [
       "\\begin{description*}\n",
       "\\item[Site 1] 10.8491329008612\n",
       "\\item[Site 2] 12.1193505444919\n",
       "\\end{description*}\n"
      ],
      "text/markdown": [
       "Site 1\n",
       ":   10.8491329008612Site 2\n",
       ":   12.1193505444919\n",
       "\n"
      ],
      "text/plain": [
       "  Site 1   Site 2 \n",
       "10.84913 12.11935 "
      ]
     },
     "metadata": {},
     "output_type": "display_data"
    }
   ],
   "source": [
    "tapply(complete_data$measure,complete_data$site_name,mean)"
   ]
  },
  {
   "cell_type": "markdown",
   "id": "fd91de00",
   "metadata": {},
   "source": [
    "Q.2 \n",
    "\n",
    "* Use the bootstrapping-procedure covered in class to assess whether there is a statistically significant difference between the data in `Site 1` and that in `Site 2`.\n",
    "\n",
    "Make sure you follow the approach discussed in class and which consists of:\n",
    "\n",
    "1. Selecting an appropriate test statistic\n",
    "2. Bootstrapping a a distribuion for the observed statistic under the null hypothesis\n",
    "3. Desciding whether to accept or reject the null based on the probability of the null\n",
    "4. provide a p-value to support your decision.\n"
   ]
  },
  {
   "cell_type": "code",
   "execution_count": 9,
   "id": "f129769f",
   "metadata": {},
   "outputs": [],
   "source": [
    "set.seed(110)\n",
    "data_1 = tibble(measure=rnorm(40, 10, 1))\n",
    "data_1$site_name <- 'Site 1'\n",
    "data_2 = tibble(measure=rnorm(40, 13, 1))\n",
    "data_2$site_name <- 'Site 2'\n",
    "complete_data = rbind(data_1, data_2)"
   ]
  },
  {
   "cell_type": "code",
   "execution_count": 10,
   "id": "91984049",
   "metadata": {
    "scrolled": true
   },
   "outputs": [
    {
     "data": {
      "text/plain": [
       "\n",
       "\tWelch Two Sample t-test\n",
       "\n",
       "data:  data_1$measure and data_2$measure\n",
       "t = -12.056, df = 74.217, p-value < 2.2e-16\n",
       "alternative hypothesis: true difference in means is not equal to 0\n",
       "95 percent confidence interval:\n",
       " -2.975853 -2.131763\n",
       "sample estimates:\n",
       "mean of x mean of y \n",
       " 10.14979  12.70360 \n"
      ]
     },
     "metadata": {},
     "output_type": "display_data"
    }
   ],
   "source": [
    "t.test(data_1$measure, data_2$measure)"
   ]
  },
  {
   "cell_type": "markdown",
   "id": "36f886b6",
   "metadata": {},
   "source": [
    "#### Q2.0 \n",
    "\n",
    "Complete the following by describing the null and the alternative hypotheses we are testing here.\n"
   ]
  },
  {
   "cell_type": "code",
   "execution_count": null,
   "id": "c719444e",
   "metadata": {},
   "outputs": [],
   "source": [
    "# fail to reject null hypothesis because p value  is less than 0.05 and true difference of means not equal to 0."
   ]
  },
  {
   "cell_type": "markdown",
   "id": "638ce673",
   "metadata": {},
   "source": [
    "#### Q.2.1 \n",
    "\n",
    "Produce a graph similar the one below (geom_density) display the distributions. If you're using the same seed as mine, your graph will look exactly the same as the one below \n",
    "\n",
    "![](https://www.dropbox.com/s/rz5jxm84kk8ac1m/dist.png?dl=1)"
   ]
  },
  {
   "cell_type": "code",
   "execution_count": 11,
   "id": "83243f10",
   "metadata": {},
   "outputs": [
    {
     "data": {
      "image/png": "[encoded data removed]",
      "text/plain": [
       "plot without title"
      ]
     },
     "metadata": {
      "image/png": {
       "height": 420,
       "width": 420
      }
     },
     "output_type": "display_data"
    }
   ],
   "source": [
    "ggplot(complete_data, aes(x = measure, fill = site_name)) + \n",
    "  geom_density(alpha = 0.4, bw = 0.65) + \n",
    "  xlim(5,18)"
   ]
  },
  {
   "cell_type": "markdown",
   "id": "2ce7e15e",
   "metadata": {},
   "source": [
    "Q2.2 Select a proper test statistic and produce a distribution of the statistic under the null hypothesis. Plot the data as both a histogram and density curves. Your graph may look like this.\n",
    "\n",
    "![](https://www.dropbox.com/s/3jarqg9swneai0r/mean_under_null.png?dl=1)"
   ]
  },
  {
   "cell_type": "code",
   "execution_count": 12,
   "id": "8d295234",
   "metadata": {},
   "outputs": [],
   "source": [
    "processOneIter = function(data_1, data_2){\n",
    "    concat_data = c(data_1, data_2)\n",
    "    len_concat_data = length(concat_data)\n",
    "    \n",
    "    len_data_1 = length(data_1)    \n",
    "    shuffled_data = sample(concat_data)\n",
    "    new_data_1 = shuffled_data[1:len_data_1]\n",
    "    new_data_2 = shuffled_data[(len_data_1+1):len_concat_data]\n",
    "    mean(new_data_1) - mean(new_data_2)\n",
    "}"
   ]
  },
  {
   "cell_type": "code",
   "execution_count": 13,
   "id": "33faf848",
   "metadata": {},
   "outputs": [],
   "source": [
    "mean_under_null = replicate(1000, processOneIter(data_1$measure, data_2$measure))"
   ]
  },
  {
   "cell_type": "code",
   "execution_count": 14,
   "id": "7fadbca6",
   "metadata": {},
   "outputs": [
    {
     "data": {
      "text/html": [
       "-2.553808107795"
      ],
      "text/latex": [
       "-2.553808107795"
      ],
      "text/markdown": [
       "-2.553808107795"
      ],
      "text/plain": [
       "[1] -2.553808"
      ]
     },
     "metadata": {},
     "output_type": "display_data"
    }
   ],
   "source": [
    "observed_value <- mean(data_1$measure) - mean(data_2$measure)\n",
    "observed_value"
   ]
  },
  {
   "cell_type": "code",
   "execution_count": 15,
   "id": "88c908e5",
   "metadata": {
    "scrolled": true
   },
   "outputs": [
    {
     "data": {
      "image/png": "[encoded data removed]",
      "text/plain": [
       "plot without title"
      ]
     },
     "metadata": {
      "image/png": {
       "height": 420,
       "width": 420
      }
     },
     "output_type": "display_data"
    }
   ],
   "source": [
    "ggplot()+\n",
    "  geom_histogram(aes(mean_under_null, y=..density..), bins =30, alpha=0.2, color=\"black\") + \n",
    "  geom_density(aes(mean_under_null), bw=0.2, size=1.5) + \n",
    "  xlim(-3, 3) +\n",
    "geom_point(aes(observed_value, 0), color=\"red\", size=10)"
   ]
  },
  {
   "cell_type": "markdown",
   "id": "4f03ae0d",
   "metadata": {},
   "source": [
    "####  Q2.3. \n",
    "\n",
    "Calculate and plot the observed statistic on the graph you created in Q.2.2. \n"
   ]
  },
  {
   "cell_type": "code",
   "execution_count": 16,
   "id": "373a8ae8",
   "metadata": {},
   "outputs": [
    {
     "name": "stdout",
     "output_type": "stream",
     "text": [
      "List of 10\n",
      " $ statistic  : Named num -13.7\n",
      "  ..- attr(*, \"names\")= chr \"t\"\n",
      " $ parameter  : Named num 77.5\n",
      "  ..- attr(*, \"names\")= chr \"df\"\n",
      " $ p.value    : num 2.1e-22\n",
      " $ conf.int   : num [1:2] -3.35 -2.5\n",
      "  ..- attr(*, \"conf.level\")= num 0.95\n",
      " $ estimate   : Named num [1:2] 10.1 13.1\n",
      "  ..- attr(*, \"names\")= chr [1:2] \"mean of x\" \"mean of y\"\n",
      " $ null.value : Named num 0\n",
      "  ..- attr(*, \"names\")= chr \"difference in means\"\n",
      " $ stderr     : num 0.213\n",
      " $ alternative: chr \"two.sided\"\n",
      " $ method     : chr \"Welch Two Sample t-test\"\n",
      " $ data.name  : chr \"rnorm(40, 10, 1) and rnorm(40, 13, 1)\"\n",
      " - attr(*, \"class\")= chr \"htest\"\n"
     ]
    }
   ],
   "source": [
    "data <- t.test(rnorm(40, 10, 1),rnorm(40, 13, 1))\n",
    "str(data)"
   ]
  },
  {
   "cell_type": "code",
   "execution_count": 17,
   "id": "28ca7ad4",
   "metadata": {
    "scrolled": true
   },
   "outputs": [
    {
     "data": {
      "text/html": [
       "2.09690677335042e-22"
      ],
      "text/latex": [
       "2.09690677335042e-22"
      ],
      "text/markdown": [
       "2.09690677335042e-22"
      ],
      "text/plain": [
       "[1] 2.096907e-22"
      ]
     },
     "metadata": {},
     "output_type": "display_data"
    }
   ],
   "source": [
    "data$p.value"
   ]
  },
  {
   "cell_type": "code",
   "execution_count": 18,
   "id": "df6e6ba2",
   "metadata": {},
   "outputs": [
    {
     "data": {
      "text/html": [
       "1"
      ],
      "text/latex": [
       "1"
      ],
      "text/markdown": [
       "1"
      ],
      "text/plain": [
       "[1] 1"
      ]
     },
     "metadata": {},
     "output_type": "display_data"
    }
   ],
   "source": [
    "passes_t_test = replicate(1000, \n",
    "   t.test(rnorm(40, 10, 1),rnorm(40, 13, 1))$p.value\n",
    ")  < 0.05\n",
    "sum(passes_t_test) / length(passes_t_test)"
   ]
  },
  {
   "cell_type": "markdown",
   "id": "71226301",
   "metadata": {},
   "source": [
    "#### Q.3 \n",
    "\n",
    "* The proportion of the of _P. lobata_, _M. capitata_ and _P. mendrina_ at a site X are c(0.60, 0.19, 0.21).\n",
    "* You surveyed site Y with different environmental conditions and obtains the following proportions for the three corals (0.61, 0.19, 0.20). Use the multinomial non-parametric hypotheses test to assess whether the proportions obtained at sites X and Y are statistically different.\n",
    "\n",
    "\n",
    "Although not explicitly required, your test should cover all the steps in Q2, i.e. appropriate graph(s) when possible, test statistics, and conclusion."
   ]
  },
  {
   "cell_type": "code",
   "execution_count": 19,
   "id": "a1fa7977",
   "metadata": {},
   "outputs": [
    {
     "data": {
      "image/png": "[encoded data removed]",
      "text/plain": [
       "plot without title"
      ]
     },
     "metadata": {
      "image/png": {
       "height": 420,
       "width": 420
      }
     },
     "output_type": "display_data"
    }
   ],
   "source": [
    "species <- c('P. lobata','P. lobata','M. capitata','M. capitata', 'P. meandrina','P. meandrina')\n",
    "proportion <- c(0.60,0.61,0.19,0.19,0.21,0.20)\n",
    "site <- rep(c(\"Site_X\",\"Site_Y\"),3)\n",
    "corals <- tibble(species,proportion,site)\n",
    "\n",
    "ggplot(corals, aes(fill=site, y=proportion, x=species)) + \n",
    "    geom_bar(position=\"dodge\", stat=\"identity\") + \n",
    "    coord_flip()"
   ]
  },
  {
   "cell_type": "code",
   "execution_count": 20,
   "id": "d250b405",
   "metadata": {},
   "outputs": [
    {
     "data": {
      "text/html": [
       "0.01"
      ],
      "text/latex": [
       "0.01"
      ],
      "text/markdown": [
       "0.01"
      ],
      "text/plain": [
       "[1] 0.01"
      ]
     },
     "metadata": {},
     "output_type": "display_data"
    }
   ],
   "source": [
    "subtract_abs <- function(x){\n",
    "    abs((x)[1] - x[2])\n",
    "}\n",
    "\n",
    "sum(tapply(corals$proportion, corals$species, subtract_abs))/2"
   ]
  },
  {
   "cell_type": "code",
   "execution_count": 21,
   "id": "fba82d05",
   "metadata": {},
   "outputs": [
    {
     "data": {
      "text/html": [
       "<table class=\"dataframe\">\n",
       "<caption>A matrix: 3 × 1 of type dbl</caption>\n",
       "<tbody>\n",
       "\t<tr><td>0.575</td></tr>\n",
       "\t<tr><td>0.160</td></tr>\n",
       "\t<tr><td>0.265</td></tr>\n",
       "</tbody>\n",
       "</table>\n"
      ],
      "text/latex": [
       "A matrix: 3 × 1 of type dbl\n",
       "\\begin{tabular}{l}\n",
       "\t 0.575\\\\\n",
       "\t 0.160\\\\\n",
       "\t 0.265\\\\\n",
       "\\end{tabular}\n"
      ],
      "text/markdown": [
       "\n",
       "A matrix: 3 × 1 of type dbl\n",
       "\n",
       "| 0.575 |\n",
       "| 0.160 |\n",
       "| 0.265 |\n",
       "\n"
      ],
      "text/plain": [
       "     [,1] \n",
       "[1,] 0.575\n",
       "[2,] 0.160\n",
       "[3,] 0.265"
      ]
     },
     "metadata": {},
     "output_type": "display_data"
    }
   ],
   "source": [
    "rmultinom(1,200,prob=c(0.60,0.19,0.21))/200"
   ]
  },
  {
   "cell_type": "code",
   "execution_count": 22,
   "id": "5f672c25",
   "metadata": {},
   "outputs": [],
   "source": [
    "sampleOneIteration <- function(){\n",
    "    true_proportions <- c(0.60,0.19,0.21)\n",
    "    sample_proportions <- rmultinom(1,200,prob=c(0.61,0.19,0.20))/200\n",
    "    sample_tvd <- sum(abs(true_proportions - sample_proportions))/2\n",
    "    sample_tvd\n",
    "}"
   ]
  },
  {
   "cell_type": "code",
   "execution_count": 24,
   "id": "37bfe5ab",
   "metadata": {},
   "outputs": [],
   "source": [
    "tvds <- replicate(1000,sampleOneIteration())\n",
    "\n",
    "observed_stat <- sum(tapply(corals$proportion, corals$species, subtract_abs))/2"
   ]
  },
  {
   "cell_type": "code",
   "execution_count": 25,
   "id": "aefc5839",
   "metadata": {},
   "outputs": [
    {
     "data": {
      "image/png": "[encoded data removed]",
      "text/plain": [
       "plot without title"
      ]
     },
     "metadata": {
      "image/png": {
       "height": 420,
       "width": 420
      }
     },
     "output_type": "display_data"
    }
   ],
   "source": [
    "ggplot()+ \n",
    "  geom_histogram(aes(tvds, ..density..), bins = 15) +\n",
    "  geom_point(aes(observed_stat, 0), size=5, color=\"red\")"
   ]
  },
  {
   "cell_type": "code",
   "execution_count": 26,
   "id": "fbf9bc13",
   "metadata": {},
   "outputs": [
    {
     "data": {
      "text/html": [
       "0.952"
      ],
      "text/latex": [
       "0.952"
      ],
      "text/markdown": [
       "0.952"
      ],
      "text/plain": [
       "[1] 0.952"
      ]
     },
     "metadata": {},
     "output_type": "display_data"
    }
   ],
   "source": [
    "p_value <- sum(tvds > observed_stat)/length(tvds)\n",
    "p_value"
   ]
  },
  {
   "cell_type": "code",
   "execution_count": null,
   "id": "b24448fd",
   "metadata": {},
   "outputs": [],
   "source": [
    "# fail to reject null hypothesis"
   ]
  }
 ],
 "metadata": {
  "kernelspec": {
   "display_name": "R",
   "language": "R",
   "name": "ir"
  },
  "language_info": {
   "codemirror_mode": "r",
   "file_extension": ".r",
   "mimetype": "text/x-r-source",
   "name": "R",
   "pygments_lexer": "r",
   "version": "4.1.3"
  }
 },
 "nbformat": 4,
 "nbformat_minor": 5
}
